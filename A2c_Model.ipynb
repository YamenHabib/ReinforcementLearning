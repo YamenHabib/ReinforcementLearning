{
  "nbformat": 4,
  "nbformat_minor": 0,
  "metadata": {
    "colab": {
      "name": "A2c Model.ipynb",
      "provenance": [],
      "collapsed_sections": [],
      "authorship_tag": "ABX9TyNp7+8wx5t2lZ5F13+Ez1GB",
      "include_colab_link": true
    },
    "kernelspec": {
      "name": "python3",
      "display_name": "Python 3"
    }
  },
  "cells": [
    {
      "cell_type": "markdown",
      "metadata": {
        "id": "view-in-github",
        "colab_type": "text"
      },
      "source": [
        "<a href=\"https://colab.research.google.com/github/YamenHabib/ReinforcementLearning/blob/main/A2c_Model.ipynb\" target=\"_parent\"><img src=\"https://colab.research.google.com/assets/colab-badge.svg\" alt=\"Open In Colab\"/></a>"
      ]
    },
    {
      "cell_type": "code",
      "metadata": {
        "colab": {
          "base_uri": "https://localhost:8080/"
        },
        "id": "cLWjJvT7d9no",
        "outputId": "d45c2b40-8055-4c69-b8a2-8984c435ba1e"
      },
      "source": [
        "try:\r\n",
        "    from google.colab import drive\r\n",
        "    %tensorflow_version 2.x\r\n",
        "    COLAB = True\r\n",
        "    print(\"Note: using Google CoLab\")\r\n",
        "except:\r\n",
        "    print(\"Note: not using Google CoLab\")\r\n",
        "    COLAB = False"
      ],
      "execution_count": 1,
      "outputs": [
        {
          "output_type": "stream",
          "text": [
            "Note: using Google CoLab\n"
          ],
          "name": "stdout"
        }
      ]
    },
    {
      "cell_type": "code",
      "metadata": {
        "colab": {
          "base_uri": "https://localhost:8080/"
        },
        "id": "_hUMcZQHd-iP",
        "outputId": "06ad7b43-096e-4f96-b5f1-c33967579c8e"
      },
      "source": [
        "if COLAB:\r\n",
        "  !sudo apt-get install -y xvfb ffmpeg x11-utils\r\n",
        "  !pip install -q 'gym==0.17.0'\r\n",
        "  !pip install -q 'imageio==2.4.0'\r\n",
        "  !pip install -q PILLOW\r\n",
        "  !pip install -q 'pyglet==1.4.0'\r\n",
        "  !pip install -q pyvirtualdisplay\r\n",
        "  !pip install -q tf-agents"
      ],
      "execution_count": 2,
      "outputs": [
        {
          "output_type": "stream",
          "text": [
            "Reading package lists... Done\n",
            "Building dependency tree       \n",
            "Reading state information... Done\n",
            "x11-utils is already the newest version (7.7+3build1).\n",
            "ffmpeg is already the newest version (7:3.4.8-0ubuntu0.2).\n",
            "xvfb is already the newest version (2:1.19.6-1ubuntu4.8).\n",
            "0 upgraded, 0 newly installed, 0 to remove and 29 not upgraded.\n"
          ],
          "name": "stdout"
        }
      ]
    },
    {
      "cell_type": "code",
      "metadata": {
        "colab": {
          "base_uri": "https://localhost:8080/",
          "height": 416
        },
        "id": "qu0xD9Vyfeoc",
        "outputId": "31273fc7-145c-45ad-9248-7a04db38ce3c"
      },
      "source": [
        "import tf_agents\r\n",
        "from tf_agents.environments import suite_gym\r\n",
        "import PIL.Image\r\n",
        "import pyvirtualdisplay\r\n",
        "\r\n",
        "display = pyvirtualdisplay.Display(visible=0, size=(1600, 1000)).start()\r\n",
        "\r\n",
        "env_name = 'CartPole-v0'\r\n",
        "env = suite_gym.load(env_name)\r\n",
        "env.reset()\r\n",
        "PIL.Image.fromarray(env.render())"
      ],
      "execution_count": 3,
      "outputs": [
        {
          "output_type": "execute_result",
          "data": {
            "image/png": "[encoded data removed]",
            "text/plain": [
              "<PIL.Image.Image image mode=RGB size=600x400 at 0x7F0D149D9210>"
            ]
          },
          "metadata": {
            "tags": []
          },
          "execution_count": 3
        }
      ]
    },
    {
      "cell_type": "code",
      "metadata": {
        "id": "BiFbiA61d_z-"
      },
      "source": [
        "import gym\r\n",
        "from gym.wrappers import Monitor\r\n",
        "import glob\r\n",
        "import io\r\n",
        "import base64\r\n",
        "from IPython.display import HTML\r\n",
        "from pyvirtualdisplay import Display\r\n",
        "from IPython import display as ipythondisplay\r\n",
        "\r\n",
        "display = Display(visible=0, size=(1400, 900))\r\n",
        "display.start()\r\n",
        "\r\n",
        "def show_video():\r\n",
        "  mp4list = glob.glob('video/*.mp4')\r\n",
        "  if len(mp4list) > 0:\r\n",
        "    mp4 = mp4list[0]\r\n",
        "    video = io.open(mp4, 'r+b').read()\r\n",
        "    encoded = base64.b64encode(video)\r\n",
        "    ipythondisplay.display(HTML(data='''<video alt=\"test\" autoplay \r\n",
        "                loop controls style=\"height: 400px;\">\r\n",
        "                <source src=\"data:video/mp4;base64,{0}\" type=\"video/mp4\" />\r\n",
        "             </video>'''.format(encoded.decode('ascii'))))\r\n",
        "  else: \r\n",
        "    print(\"Could not find video\")\r\n",
        "    \r\n",
        "\r\n",
        "def wrap_env(env):\r\n",
        "  env = Monitor(env, './video', force=True)\r\n",
        "  return env"
      ],
      "execution_count": 4,
      "outputs": []
    },
    {
      "cell_type": "code",
      "metadata": {
        "colab": {
          "base_uri": "https://localhost:8080/"
        },
        "id": "8biNtKxGeW1R",
        "outputId": "9ff4ba03-1e7b-47f7-c068-adfdd9c969f9"
      },
      "source": [
        "env.action_space"
      ],
      "execution_count": 5,
      "outputs": [
        {
          "output_type": "execute_result",
          "data": {
            "text/plain": [
              "Discrete(2)"
            ]
          },
          "metadata": {
            "tags": []
          },
          "execution_count": 5
        }
      ]
    },
    {
      "cell_type": "code",
      "metadata": {
        "colab": {
          "base_uri": "https://localhost:8080/"
        },
        "id": "jRmXtYNueMKX",
        "outputId": "ddd0f353-a332-4049-d486-cf6c66d261e5"
      },
      "source": [
        "import logging\r\n",
        "import numpy as np\r\n",
        "import tensorflow as tf\r\n",
        "import matplotlib.pyplot as plt\r\n",
        "from tensorflow.keras import layers\r\n",
        "from tensorflow.keras import losses\r\n",
        "from tensorflow.keras import optimizers\r\n",
        "\r\n",
        "%matplotlib inline\r\n",
        "\r\n",
        "print(\"TensorFlow Ver: \", tf.__version__)"
      ],
      "execution_count": 6,
      "outputs": [
        {
          "output_type": "stream",
          "text": [
            "TensorFlow Ver:  2.4.1\n"
          ],
          "name": "stdout"
        }
      ]
    },
    {
      "cell_type": "code",
      "metadata": {
        "colab": {
          "base_uri": "https://localhost:8080/"
        },
        "id": "7BpZClehscYx",
        "outputId": "51d37956-a5aa-4fe7-c6bc-302df24dcc3f"
      },
      "source": [
        "if COLAB:\r\n",
        "  env = wrap_env(gym.make(env_name))\r\n",
        "else:\r\n",
        "  env = gym.make(env_name)\r\n",
        "\r\n",
        "env.reset()\r\n",
        "done = False\r\n",
        "\r\n",
        "i = 0\r\n",
        "while not done:\r\n",
        "    i += 1\r\n",
        "    action = np.random.randint(2)\r\n",
        "    state, reward, done, _ = env.step(action)\r\n",
        "    env.render()\r\n",
        "    print(f\"Step {i}: Reward={reward}. done={done}\")\r\n",
        "    \r\n",
        "env.close()"
      ],
      "execution_count": 7,
      "outputs": [
        {
          "output_type": "stream",
          "text": [
            "Step 1: Reward=1.0. done=False\n",
            "Step 2: Reward=1.0. done=False\n",
            "Step 3: Reward=1.0. done=False\n",
            "Step 4: Reward=1.0. done=False\n",
            "Step 5: Reward=1.0. done=False\n",
            "Step 6: Reward=1.0. done=False\n",
            "Step 7: Reward=1.0. done=False\n",
            "Step 8: Reward=1.0. done=False\n",
            "Step 9: Reward=1.0. done=False\n",
            "Step 10: Reward=1.0. done=False\n",
            "Step 11: Reward=1.0. done=False\n",
            "Step 12: Reward=1.0. done=False\n",
            "Step 13: Reward=1.0. done=False\n",
            "Step 14: Reward=1.0. done=False\n",
            "Step 15: Reward=1.0. done=False\n",
            "Step 16: Reward=1.0. done=False\n",
            "Step 17: Reward=1.0. done=False\n",
            "Step 18: Reward=1.0. done=False\n",
            "Step 19: Reward=1.0. done=False\n",
            "Step 20: Reward=1.0. done=False\n",
            "Step 21: Reward=1.0. done=False\n",
            "Step 22: Reward=1.0. done=False\n",
            "Step 23: Reward=1.0. done=False\n",
            "Step 24: Reward=1.0. done=False\n",
            "Step 25: Reward=1.0. done=False\n",
            "Step 26: Reward=1.0. done=False\n",
            "Step 27: Reward=1.0. done=False\n",
            "Step 28: Reward=1.0. done=False\n",
            "Step 29: Reward=1.0. done=False\n",
            "Step 30: Reward=1.0. done=False\n",
            "Step 31: Reward=1.0. done=True\n"
          ],
          "name": "stdout"
        }
      ]
    },
    {
      "cell_type": "code",
      "metadata": {
        "colab": {
          "base_uri": "https://localhost:8080/",
          "height": 421
        },
        "id": "YLRCqBpdeUBx",
        "outputId": "e309e8e6-8f40-4df3-c57e-500fb02c6063"
      },
      "source": [
        "show_video()"
      ],
      "execution_count": 8,
      "outputs": [
        {
          "output_type": "display_data",
          "data": {
            "text/html": [
              "<video alt=\"test\" autoplay \n",
              "                loop controls style=\"height: 400px;\">\n",
              "                <source src=\"data:video/mp4;base64,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\" type=\"video/mp4\" />\n",
              "             </video>"
            ],
            "text/plain": [
              "<IPython.core.display.HTML object>"
            ]
          },
          "metadata": {
            "tags": []
          }
        }
      ]
    },
    {
      "cell_type": "code",
      "metadata": {
        "id": "ssrsamVOqJIQ"
      },
      "source": [
        "class Sampling(tf.keras.Model):\r\n",
        "  def call(self, logits, **kwargs):\r\n",
        "    return tf.squeeze(tf.random.categorical(logits, 1), axis=-1)"
      ],
      "execution_count": 9,
      "outputs": []
    },
    {
      "cell_type": "code",
      "metadata": {
        "id": "ossx5F4FheL2"
      },
      "source": [
        "class Model(tf.keras.Model):\r\n",
        "  def __init__(self, num_actions):\r\n",
        "    super().__init__('mlp_policy')\r\n",
        "    self.fc1 = layers.Dense(128, activation='relu')\r\n",
        "    self.fc2 = layers.Dense(128, activation='relu')\r\n",
        "    self.q_value = layers.Dense(1, name='value')\r\n",
        "\r\n",
        "    self.policy_logits = layers.Dense(num_actions, name='policy_logits')\r\n",
        "    self.sampling = Sampling()\r\n",
        "\r\n",
        "  def call(self, inputs, **kwargs):\r\n",
        "    x = tf.convert_to_tensor(inputs)\r\n",
        "    hidden_logs = self.fc1(x)\r\n",
        "    hidden_vals = self.fc2(x)\r\n",
        "    return self.policy_logits(hidden_logs), self.q_value(hidden_vals)\r\n",
        "\r\n",
        "  def action_value(self, obs):\r\n",
        "    policy_logits, value = self.predict_on_batch(obs)\r\n",
        "    action = self.sampling.predict_on_batch(policy_logits)\r\n",
        "    return np.squeeze(action, axis=-1), np.squeeze(value, axis=-1)"
      ],
      "execution_count": 10,
      "outputs": []
    },
    {
      "cell_type": "code",
      "metadata": {
        "colab": {
          "base_uri": "https://localhost:8080/"
        },
        "id": "9X1wlYkRhfPV",
        "outputId": "9320b445-29f4-4b6a-b751-3d7123ca62fa"
      },
      "source": [
        "# Verify everything works by sampling a single action.\r\n",
        "env = gym.make('CartPole-v0')\r\n",
        "model = Model(num_actions=env.action_space.n)\r\n",
        "model.action_value(env.reset()[None, :])"
      ],
      "execution_count": 11,
      "outputs": [
        {
          "output_type": "execute_result",
          "data": {
            "text/plain": [
              "(array(1), array([-0.00837735], dtype=float32))"
            ]
          },
          "metadata": {
            "tags": []
          },
          "execution_count": 11
        }
      ]
    },
    {
      "cell_type": "code",
      "metadata": {
        "id": "oFC252SHhkvJ"
      },
      "source": [
        "class A2CAgent:\r\n",
        "  def __init__(self, model, lr=7e-3, gamma=0.99, value_c=0.5, entropy_coefficient=1e-4):\r\n",
        "    self.gamma = gamma\r\n",
        "    self.value_c = value_c\r\n",
        "    self.entropy_coefficient = entropy_coefficient\r\n",
        "    self.model = model\r\n",
        "    self.model.compile( optimizer=optimizers.RMSprop(lr=lr), loss=[self._action_logits_loss, self._value_loss])\r\n",
        "\r\n",
        "  def train(self, env, batch_sz=64, updates=250):\r\n",
        "    actions = np.empty((batch_sz,), dtype=np.int32)\r\n",
        "    rewards, dones, values = np.empty((3, batch_sz))\r\n",
        "    states = np.empty((batch_sz,) + env.observation_space.shape)\r\n",
        "    \r\n",
        "    ep_rewards = [0.0]\r\n",
        "    next_state = env.reset()\r\n",
        "    for update in range(updates):\r\n",
        "      for step in range(batch_sz):\r\n",
        "        states[step] = next_state.copy()\r\n",
        "        actions[step], values[step] = self.model.action_value(next_state[None, :])\r\n",
        "        next_state, rewards[step], dones[step], _ = env.step(actions[step])\r\n",
        "        ep_rewards[-1] += rewards[step]\r\n",
        "        if dones[step]:\r\n",
        "          ep_rewards.append(0.0)\r\n",
        "          next_state = env.reset()\r\n",
        "          logging.info(\"Episode: %03d, Reward: %03d\" % (len(ep_rewards) - 1, ep_rewards[-2]))\r\n",
        "\r\n",
        "      _, q_value_tp1 = self.model.action_value(next_state[None, :])\r\n",
        "      exp_rewards, advs = self._expected_rewards_advantages(rewards, dones, values, q_value_tp1)\r\n",
        "      acts_and_advs = np.concatenate([actions[:, None], advs[:, None]], axis=-1)\r\n",
        "      losses = self.model.train_on_batch(states, [acts_and_advs, exp_rewards])\r\n",
        "      logging.debug(\"[%d/%d] Losses: %s\" % (update + 1, updates, losses))\r\n",
        "\r\n",
        "    return ep_rewards\r\n",
        "\r\n",
        "  def test(self, env, render=False):\r\n",
        "    states, done, ep_reward = env.reset(), False, 0\r\n",
        "    while not done:\r\n",
        "      action, _ = self.model.action_value(states[None, :])\r\n",
        "      states, reward, done, _ = env.step(action)\r\n",
        "      ep_reward += reward\r\n",
        "      if render:\r\n",
        "        env.render()\r\n",
        "    return ep_reward\r\n",
        "\r\n",
        "  def _expected_rewards_advantages(self, rewards, dones, values, q_value_tp1):\r\n",
        "    expected_rewards = np.append(np.zeros_like(rewards), q_value_tp1, axis=-1)\r\n",
        "    for t in reversed(range(rewards.shape[0])):\r\n",
        "      expected_rewards[t] = rewards[t] + self.gamma * expected_rewards[t + 1] * (1 - dones[t])\r\n",
        "    expected_rewards = expected_rewards[:-1]\r\n",
        "    advantages = expected_rewards - values\r\n",
        "    return expected_rewards, advantages\r\n",
        "\r\n",
        "  def _value_loss(self, exp_rewards, value):\r\n",
        "    return self.value_c * losses.mean_squared_error(exp_rewards, value)\r\n",
        "\r\n",
        "  def _action_logits_loss(self, actions_and_advantages, logits):\r\n",
        "    actions, advantages = tf.split(actions_and_advantages, 2, axis=-1)\r\n",
        "    weighted_sparse_ce = losses.SparseCategoricalCrossentropy(from_logits=True)\r\n",
        "    actions = tf.cast(actions, tf.int32)\r\n",
        "    policy_loss = weighted_sparse_ce(actions, logits, sample_weight=advantages)\r\n",
        "\r\n",
        "    probs = tf.nn.softmax(logits)\r\n",
        "    entropy_loss = losses.categorical_crossentropy(probs, probs)\r\n",
        "\r\n",
        "    return policy_loss - self.entropy_coefficient * entropy_loss\r\n"
      ],
      "execution_count": 16,
      "outputs": []
    },
    {
      "cell_type": "code",
      "metadata": {
        "colab": {
          "base_uri": "https://localhost:8080/"
        },
        "id": "5KKBBtUxhl2O",
        "outputId": "3e5c5b84-22c1-4d86-e770-597d9630e519"
      },
      "source": [
        "# Verify everything works with random weights.\r\n",
        "agent = A2CAgent(model)\r\n",
        "rewards_sum = agent.test(env)\r\n",
        "print(\"Total Episode Reward: %d out of 200\" % agent.test(env))"
      ],
      "execution_count": 17,
      "outputs": [
        {
          "output_type": "stream",
          "text": [
            "Total Episode Reward: 25 out of 200\n"
          ],
          "name": "stdout"
        }
      ]
    },
    {
      "cell_type": "markdown",
      "metadata": {
        "id": "qF9I2o3Xv1no"
      },
      "source": [
        "# Training"
      ]
    },
    {
      "cell_type": "code",
      "metadata": {
        "colab": {
          "base_uri": "https://localhost:8080/"
        },
        "id": "voTysnTmhnTu",
        "outputId": "41437033-521a-443b-f8fa-67d0b1e3b3c9"
      },
      "source": [
        "logging.getLogger().setLevel(logging.INFO)\r\n",
        "model = Model(num_actions=env.action_space.n)\r\n",
        "agent = A2CAgent(model)\r\n",
        "rewards_history = agent.train(env, batch_sz=64, updates=300)"
      ],
      "execution_count": 18,
      "outputs": [
        {
          "output_type": "stream",
          "text": [
            "INFO:root:Episode: 001, Reward: 017\n",
            "INFO:root:Episode: 002, Reward: 026\n",
            "INFO:root:Episode: 003, Reward: 035\n",
            "INFO:root:Episode: 004, Reward: 013\n",
            "INFO:root:Episode: 005, Reward: 014\n",
            "INFO:root:Episode: 006, Reward: 014\n",
            "INFO:root:Episode: 007, Reward: 015\n",
            "INFO:root:Episode: 008, Reward: 019\n",
            "INFO:root:Episode: 009, Reward: 036\n",
            "INFO:root:Episode: 010, Reward: 014\n",
            "INFO:root:Episode: 011, Reward: 030\n",
            "INFO:root:Episode: 012, Reward: 023\n",
            "INFO:root:Episode: 013, Reward: 066\n",
            "INFO:root:Episode: 014, Reward: 059\n",
            "INFO:root:Episode: 015, Reward: 036\n",
            "INFO:root:Episode: 016, Reward: 017\n",
            "INFO:root:Episode: 017, Reward: 200\n",
            "INFO:root:Episode: 018, Reward: 061\n",
            "INFO:root:Episode: 019, Reward: 019\n",
            "INFO:root:Episode: 020, Reward: 102\n",
            "INFO:root:Episode: 021, Reward: 035\n",
            "INFO:root:Episode: 022, Reward: 037\n",
            "INFO:root:Episode: 023, Reward: 092\n",
            "INFO:root:Episode: 024, Reward: 035\n",
            "INFO:root:Episode: 025, Reward: 138\n",
            "INFO:root:Episode: 026, Reward: 074\n",
            "INFO:root:Episode: 027, Reward: 049\n",
            "INFO:root:Episode: 028, Reward: 032\n",
            "INFO:root:Episode: 029, Reward: 047\n",
            "INFO:root:Episode: 030, Reward: 028\n",
            "INFO:root:Episode: 031, Reward: 073\n",
            "INFO:root:Episode: 032, Reward: 061\n",
            "INFO:root:Episode: 033, Reward: 070\n",
            "INFO:root:Episode: 034, Reward: 047\n",
            "INFO:root:Episode: 035, Reward: 040\n",
            "INFO:root:Episode: 036, Reward: 070\n",
            "INFO:root:Episode: 037, Reward: 058\n",
            "INFO:root:Episode: 038, Reward: 062\n",
            "INFO:root:Episode: 039, Reward: 043\n",
            "INFO:root:Episode: 040, Reward: 056\n",
            "INFO:root:Episode: 041, Reward: 047\n",
            "INFO:root:Episode: 042, Reward: 091\n",
            "INFO:root:Episode: 043, Reward: 014\n",
            "INFO:root:Episode: 044, Reward: 059\n",
            "INFO:root:Episode: 045, Reward: 065\n",
            "INFO:root:Episode: 046, Reward: 089\n",
            "INFO:root:Episode: 047, Reward: 082\n",
            "INFO:root:Episode: 048, Reward: 048\n",
            "INFO:root:Episode: 049, Reward: 042\n",
            "INFO:root:Episode: 050, Reward: 055\n",
            "INFO:root:Episode: 051, Reward: 048\n",
            "INFO:root:Episode: 052, Reward: 068\n",
            "INFO:root:Episode: 053, Reward: 059\n",
            "INFO:root:Episode: 054, Reward: 040\n",
            "INFO:root:Episode: 055, Reward: 065\n",
            "INFO:root:Episode: 056, Reward: 101\n",
            "INFO:root:Episode: 057, Reward: 088\n",
            "INFO:root:Episode: 058, Reward: 066\n",
            "INFO:root:Episode: 059, Reward: 186\n",
            "INFO:root:Episode: 060, Reward: 112\n",
            "INFO:root:Episode: 061, Reward: 057\n",
            "INFO:root:Episode: 062, Reward: 060\n",
            "INFO:root:Episode: 063, Reward: 098\n",
            "INFO:root:Episode: 064, Reward: 059\n",
            "INFO:root:Episode: 065, Reward: 083\n",
            "INFO:root:Episode: 066, Reward: 200\n",
            "INFO:root:Episode: 067, Reward: 087\n",
            "INFO:root:Episode: 068, Reward: 150\n",
            "INFO:root:Episode: 069, Reward: 200\n",
            "INFO:root:Episode: 070, Reward: 162\n",
            "INFO:root:Episode: 071, Reward: 200\n",
            "INFO:root:Episode: 072, Reward: 200\n",
            "INFO:root:Episode: 073, Reward: 200\n",
            "INFO:root:Episode: 074, Reward: 200\n",
            "INFO:root:Episode: 075, Reward: 200\n",
            "INFO:root:Episode: 076, Reward: 200\n",
            "INFO:root:Episode: 077, Reward: 200\n",
            "INFO:root:Episode: 078, Reward: 129\n",
            "INFO:root:Episode: 079, Reward: 200\n",
            "INFO:root:Episode: 080, Reward: 200\n",
            "INFO:root:Episode: 081, Reward: 178\n",
            "INFO:root:Episode: 082, Reward: 151\n",
            "INFO:root:Episode: 083, Reward: 116\n",
            "INFO:root:Episode: 084, Reward: 131\n",
            "INFO:root:Episode: 085, Reward: 136\n",
            "INFO:root:Episode: 086, Reward: 142\n",
            "INFO:root:Episode: 087, Reward: 136\n",
            "INFO:root:Episode: 088, Reward: 083\n",
            "INFO:root:Episode: 089, Reward: 097\n",
            "INFO:root:Episode: 090, Reward: 091\n",
            "INFO:root:Episode: 091, Reward: 158\n",
            "INFO:root:Episode: 092, Reward: 101\n",
            "INFO:root:Episode: 093, Reward: 200\n",
            "INFO:root:Episode: 094, Reward: 155\n",
            "INFO:root:Episode: 095, Reward: 200\n",
            "INFO:root:Episode: 096, Reward: 200\n",
            "INFO:root:Episode: 097, Reward: 200\n",
            "INFO:root:Episode: 098, Reward: 200\n",
            "INFO:root:Episode: 099, Reward: 173\n",
            "INFO:root:Episode: 100, Reward: 155\n",
            "INFO:root:Episode: 101, Reward: 093\n",
            "INFO:root:Episode: 102, Reward: 126\n",
            "INFO:root:Episode: 103, Reward: 152\n",
            "INFO:root:Episode: 104, Reward: 117\n",
            "INFO:root:Episode: 105, Reward: 056\n",
            "INFO:root:Episode: 106, Reward: 083\n",
            "INFO:root:Episode: 107, Reward: 048\n",
            "INFO:root:Episode: 108, Reward: 081\n",
            "INFO:root:Episode: 109, Reward: 130\n",
            "INFO:root:Episode: 110, Reward: 090\n",
            "INFO:root:Episode: 111, Reward: 116\n",
            "INFO:root:Episode: 112, Reward: 113\n",
            "INFO:root:Episode: 113, Reward: 113\n",
            "INFO:root:Episode: 114, Reward: 123\n",
            "INFO:root:Episode: 115, Reward: 124\n",
            "INFO:root:Episode: 116, Reward: 098\n",
            "INFO:root:Episode: 117, Reward: 030\n",
            "INFO:root:Episode: 118, Reward: 137\n",
            "INFO:root:Episode: 119, Reward: 126\n",
            "INFO:root:Episode: 120, Reward: 118\n",
            "INFO:root:Episode: 121, Reward: 200\n",
            "INFO:root:Episode: 122, Reward: 179\n",
            "INFO:root:Episode: 123, Reward: 185\n",
            "INFO:root:Episode: 124, Reward: 200\n",
            "INFO:root:Episode: 125, Reward: 200\n",
            "INFO:root:Episode: 126, Reward: 155\n",
            "INFO:root:Episode: 127, Reward: 159\n",
            "INFO:root:Episode: 128, Reward: 134\n",
            "INFO:root:Episode: 129, Reward: 134\n",
            "INFO:root:Episode: 130, Reward: 125\n",
            "INFO:root:Episode: 131, Reward: 154\n",
            "INFO:root:Episode: 132, Reward: 180\n",
            "INFO:root:Episode: 133, Reward: 160\n",
            "INFO:root:Episode: 134, Reward: 200\n",
            "INFO:root:Episode: 135, Reward: 200\n",
            "INFO:root:Episode: 136, Reward: 200\n",
            "INFO:root:Episode: 137, Reward: 200\n",
            "INFO:root:Episode: 138, Reward: 200\n",
            "INFO:root:Episode: 139, Reward: 200\n",
            "INFO:root:Episode: 140, Reward: 200\n",
            "INFO:root:Episode: 141, Reward: 200\n",
            "INFO:root:Episode: 142, Reward: 200\n",
            "INFO:root:Episode: 143, Reward: 200\n",
            "INFO:root:Episode: 144, Reward: 200\n",
            "INFO:root:Episode: 145, Reward: 200\n",
            "INFO:root:Episode: 146, Reward: 200\n",
            "INFO:root:Episode: 147, Reward: 200\n",
            "INFO:root:Episode: 148, Reward: 200\n",
            "INFO:root:Episode: 149, Reward: 200\n",
            "INFO:root:Episode: 150, Reward: 200\n",
            "INFO:root:Episode: 151, Reward: 200\n",
            "INFO:root:Episode: 152, Reward: 200\n",
            "INFO:root:Episode: 153, Reward: 144\n",
            "INFO:root:Episode: 154, Reward: 154\n",
            "INFO:root:Episode: 155, Reward: 173\n",
            "INFO:root:Episode: 156, Reward: 189\n",
            "INFO:root:Episode: 157, Reward: 200\n",
            "INFO:root:Episode: 158, Reward: 200\n",
            "INFO:root:Episode: 159, Reward: 200\n",
            "INFO:root:Episode: 160, Reward: 200\n",
            "INFO:root:Episode: 161, Reward: 200\n"
          ],
          "name": "stderr"
        }
      ]
    },
    {
      "cell_type": "code",
      "metadata": {
        "id": "6T6RzH_gjhpC",
        "colab": {
          "base_uri": "https://localhost:8080/"
        },
        "outputId": "6fbd7f09-356b-4775-a272-1fad9e25dd5b"
      },
      "source": [
        "if COLAB:\r\n",
        "  env = wrap_env(gym.make(env_name))\r\n",
        "else:\r\n",
        "  env = gym.make(env_name)\r\n",
        "\r\n",
        "\r\n",
        "env.reset()\r\n",
        "done = False\r\n",
        "\r\n",
        "obs, done, ep_reward = env.reset(), False, 0\r\n",
        "while not done:\r\n",
        "  action, _ = agent.model.action_value(obs[None, :])\r\n",
        "  obs, reward, done, _ = env.step(action)\r\n",
        "  ep_reward += reward\r\n",
        "  env.render()\r\n",
        "env.close()\r\n",
        "ep_reward"
      ],
      "execution_count": 24,
      "outputs": [
        {
          "output_type": "execute_result",
          "data": {
            "text/plain": [
              "200.0"
            ]
          },
          "metadata": {
            "tags": []
          },
          "execution_count": 24
        }
      ]
    },
    {
      "cell_type": "code",
      "metadata": {
        "colab": {
          "base_uri": "https://localhost:8080/",
          "height": 421
        },
        "id": "stNhXFEkhouc",
        "outputId": "8bfe084d-fc66-4480-f6a3-3444fd4f9dc3"
      },
      "source": [
        "show_video()"
      ],
      "execution_count": 25,
      "outputs": [
        {
          "output_type": "display_data",
          "data": {
            "text/html": [
              "<video alt=\"test\" autoplay \n",
              "                loop controls style=\"height: 400px;\">\n",
              "                <source src=\"data:video/mp4;base64,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\" type=\"video/mp4\" />\n",
              "             </video>"
            ],
            "text/plain": [
              "<IPython.core.display.HTML object>"
            ]
          },
          "metadata": {
            "tags": []
          }
        }
      ]
    },
    {
      "cell_type": "code",
      "metadata": {
        "id": "Zzs99BGQiWG4"
      },
      "source": [
        ""
      ],
      "execution_count": 17,
      "outputs": []
    }
  ]
}